{
 "cells": [
  {
   "cell_type": "code",
   "execution_count": 1,
   "metadata": {},
   "outputs": [],
   "source": [
    "import os\n",
    "import pandas as pd\n",
    "import numpy as np"
   ]
  },
  {
   "cell_type": "code",
   "execution_count": 2,
   "metadata": {},
   "outputs": [],
   "source": [
    "def load_anew10():\n",
    "\tanew = pd.read_csv(os.environ['DATA_BUECHEL_ANEW10'], sep = '\\t')\n",
    "\tanew = anew[['Word','ValMn','AroMn','DomMn']]\n",
    "\tanew.columns = ['word', 'valence', 'arousal',\n",
    "\t\t\t\t   'dominance']\n",
    "\tanew.set_index('word', inplace=True)\n",
    "\treturn anew"
   ]
  },
  {
   "cell_type": "code",
   "execution_count": 3,
   "metadata": {},
   "outputs": [],
   "source": [
    "def load_anew99():\n",
    "\tanew=pd.read_csv(os.environ['DATA_BUECHEL_ANEW99'], sep='\\t')\n",
    "\tanew.columns=['word', 'valence', 'arousal', 'dominance']\n",
    "\tanew.set_index('word', inplace=True)\n",
    "\treturn anew"
   ]
  },
  {
   "cell_type": "code",
   "execution_count": 4,
   "metadata": {},
   "outputs": [],
   "source": [
    "def load_warriner13():\n",
    "    df = pd.read_csv(os.environ['DATA_BUECHEL_WARRINER13'], sep=',')\n",
    "    df=df[['Word','V.Mean.Sum', 'A.Mean.Sum', 'D.Mean.Sum']]\n",
    "    df.columns=['word', 'valence', 'arousal', 'dominance']\n",
    "    df.set_index('word',inplace=True)\n",
    "    df = df.drop(np.nan)\n",
    "    for entry in df.index:\n",
    "        if \" \" in entry:\n",
    "            df = df.drop(entry)\n",
    "    return df"
   ]
  },
  {
   "cell_type": "code",
   "execution_count": 5,
   "metadata": {},
   "outputs": [
    {
     "data": {
      "text/html": [
       "<div>\n",
       "<style scoped>\n",
       "    .dataframe tbody tr th:only-of-type {\n",
       "        vertical-align: middle;\n",
       "    }\n",
       "\n",
       "    .dataframe tbody tr th {\n",
       "        vertical-align: top;\n",
       "    }\n",
       "\n",
       "    .dataframe thead th {\n",
       "        text-align: right;\n",
       "    }\n",
       "</style>\n",
       "<table border=\"1\" class=\"dataframe\">\n",
       "  <thead>\n",
       "    <tr style=\"text-align: right;\">\n",
       "      <th></th>\n",
       "      <th>valence</th>\n",
       "      <th>arousal</th>\n",
       "      <th>dominance</th>\n",
       "    </tr>\n",
       "  </thead>\n",
       "  <tbody>\n",
       "    <tr>\n",
       "      <th>count</th>\n",
       "      <td>2476.000000</td>\n",
       "      <td>2476.000000</td>\n",
       "      <td>2476.000000</td>\n",
       "    </tr>\n",
       "    <tr>\n",
       "      <th>mean</th>\n",
       "      <td>5.206103</td>\n",
       "      <td>5.104439</td>\n",
       "      <td>5.009386</td>\n",
       "    </tr>\n",
       "    <tr>\n",
       "      <th>std</th>\n",
       "      <td>1.691787</td>\n",
       "      <td>0.938531</td>\n",
       "      <td>0.964637</td>\n",
       "    </tr>\n",
       "    <tr>\n",
       "      <th>min</th>\n",
       "      <td>1.250000</td>\n",
       "      <td>2.290000</td>\n",
       "      <td>2.170000</td>\n",
       "    </tr>\n",
       "    <tr>\n",
       "      <th>25%</th>\n",
       "      <td>3.930000</td>\n",
       "      <td>4.410000</td>\n",
       "      <td>4.400000</td>\n",
       "    </tr>\n",
       "    <tr>\n",
       "      <th>50%</th>\n",
       "      <td>5.380000</td>\n",
       "      <td>5.040000</td>\n",
       "      <td>5.095000</td>\n",
       "    </tr>\n",
       "    <tr>\n",
       "      <th>75%</th>\n",
       "      <td>6.540000</td>\n",
       "      <td>5.730000</td>\n",
       "      <td>5.670000</td>\n",
       "    </tr>\n",
       "    <tr>\n",
       "      <th>max</th>\n",
       "      <td>8.820000</td>\n",
       "      <td>8.170000</td>\n",
       "      <td>7.880000</td>\n",
       "    </tr>\n",
       "  </tbody>\n",
       "</table>\n",
       "</div>"
      ],
      "text/plain": [
       "           valence      arousal    dominance\n",
       "count  2476.000000  2476.000000  2476.000000\n",
       "mean      5.206103     5.104439     5.009386\n",
       "std       1.691787     0.938531     0.964637\n",
       "min       1.250000     2.290000     2.170000\n",
       "25%       3.930000     4.410000     4.400000\n",
       "50%       5.380000     5.040000     5.095000\n",
       "75%       6.540000     5.730000     5.670000\n",
       "max       8.820000     8.170000     7.880000"
      ]
     },
     "execution_count": 5,
     "metadata": {},
     "output_type": "execute_result"
    }
   ],
   "source": [
    "anew10 = load_anew10()\n",
    "anew10.describe()"
   ]
  },
  {
   "cell_type": "code",
   "execution_count": 6,
   "metadata": {},
   "outputs": [
    {
     "data": {
      "text/html": [
       "<div>\n",
       "<style scoped>\n",
       "    .dataframe tbody tr th:only-of-type {\n",
       "        vertical-align: middle;\n",
       "    }\n",
       "\n",
       "    .dataframe tbody tr th {\n",
       "        vertical-align: top;\n",
       "    }\n",
       "\n",
       "    .dataframe thead th {\n",
       "        text-align: right;\n",
       "    }\n",
       "</style>\n",
       "<table border=\"1\" class=\"dataframe\">\n",
       "  <thead>\n",
       "    <tr style=\"text-align: right;\">\n",
       "      <th></th>\n",
       "      <th>valence</th>\n",
       "      <th>arousal</th>\n",
       "      <th>dominance</th>\n",
       "    </tr>\n",
       "  </thead>\n",
       "  <tbody>\n",
       "    <tr>\n",
       "      <th>count</th>\n",
       "      <td>1034.000000</td>\n",
       "      <td>1034.000000</td>\n",
       "      <td>1034.000000</td>\n",
       "    </tr>\n",
       "    <tr>\n",
       "      <th>mean</th>\n",
       "      <td>5.153907</td>\n",
       "      <td>5.120087</td>\n",
       "      <td>5.007408</td>\n",
       "    </tr>\n",
       "    <tr>\n",
       "      <th>std</th>\n",
       "      <td>1.994206</td>\n",
       "      <td>1.056946</td>\n",
       "      <td>1.019771</td>\n",
       "    </tr>\n",
       "    <tr>\n",
       "      <th>min</th>\n",
       "      <td>1.250000</td>\n",
       "      <td>2.390000</td>\n",
       "      <td>2.270000</td>\n",
       "    </tr>\n",
       "    <tr>\n",
       "      <th>25%</th>\n",
       "      <td>3.280000</td>\n",
       "      <td>4.282500</td>\n",
       "      <td>4.300000</td>\n",
       "    </tr>\n",
       "    <tr>\n",
       "      <th>50%</th>\n",
       "      <td>5.300000</td>\n",
       "      <td>5.065000</td>\n",
       "      <td>5.050000</td>\n",
       "    </tr>\n",
       "    <tr>\n",
       "      <th>75%</th>\n",
       "      <td>6.907500</td>\n",
       "      <td>5.830000</td>\n",
       "      <td>5.727500</td>\n",
       "    </tr>\n",
       "    <tr>\n",
       "      <th>max</th>\n",
       "      <td>8.820000</td>\n",
       "      <td>8.170000</td>\n",
       "      <td>7.880000</td>\n",
       "    </tr>\n",
       "  </tbody>\n",
       "</table>\n",
       "</div>"
      ],
      "text/plain": [
       "           valence      arousal    dominance\n",
       "count  1034.000000  1034.000000  1034.000000\n",
       "mean      5.153907     5.120087     5.007408\n",
       "std       1.994206     1.056946     1.019771\n",
       "min       1.250000     2.390000     2.270000\n",
       "25%       3.280000     4.282500     4.300000\n",
       "50%       5.300000     5.065000     5.050000\n",
       "75%       6.907500     5.830000     5.727500\n",
       "max       8.820000     8.170000     7.880000"
      ]
     },
     "execution_count": 6,
     "metadata": {},
     "output_type": "execute_result"
    }
   ],
   "source": [
    "anew99 = load_anew99()\n",
    "anew99.describe()"
   ]
  },
  {
   "cell_type": "code",
   "execution_count": 7,
   "metadata": {},
   "outputs": [
    {
     "data": {
      "text/html": [
       "<div>\n",
       "<style scoped>\n",
       "    .dataframe tbody tr th:only-of-type {\n",
       "        vertical-align: middle;\n",
       "    }\n",
       "\n",
       "    .dataframe tbody tr th {\n",
       "        vertical-align: top;\n",
       "    }\n",
       "\n",
       "    .dataframe thead th {\n",
       "        text-align: right;\n",
       "    }\n",
       "</style>\n",
       "<table border=\"1\" class=\"dataframe\">\n",
       "  <thead>\n",
       "    <tr style=\"text-align: right;\">\n",
       "      <th></th>\n",
       "      <th>valence</th>\n",
       "      <th>arousal</th>\n",
       "      <th>dominance</th>\n",
       "    </tr>\n",
       "  </thead>\n",
       "  <tbody>\n",
       "    <tr>\n",
       "      <th>count</th>\n",
       "      <td>13812.00000</td>\n",
       "      <td>13812.000000</td>\n",
       "      <td>13812.000000</td>\n",
       "    </tr>\n",
       "    <tr>\n",
       "      <th>mean</th>\n",
       "      <td>5.06088</td>\n",
       "      <td>4.210674</td>\n",
       "      <td>5.184528</td>\n",
       "    </tr>\n",
       "    <tr>\n",
       "      <th>std</th>\n",
       "      <td>1.27484</td>\n",
       "      <td>0.896097</td>\n",
       "      <td>0.938144</td>\n",
       "    </tr>\n",
       "    <tr>\n",
       "      <th>min</th>\n",
       "      <td>1.26000</td>\n",
       "      <td>1.600000</td>\n",
       "      <td>1.680000</td>\n",
       "    </tr>\n",
       "    <tr>\n",
       "      <th>25%</th>\n",
       "      <td>4.25000</td>\n",
       "      <td>3.570000</td>\n",
       "      <td>4.580000</td>\n",
       "    </tr>\n",
       "    <tr>\n",
       "      <th>50%</th>\n",
       "      <td>5.20000</td>\n",
       "      <td>4.110000</td>\n",
       "      <td>5.260000</td>\n",
       "    </tr>\n",
       "    <tr>\n",
       "      <th>75%</th>\n",
       "      <td>5.95000</td>\n",
       "      <td>4.760000</td>\n",
       "      <td>5.840000</td>\n",
       "    </tr>\n",
       "    <tr>\n",
       "      <th>max</th>\n",
       "      <td>8.53000</td>\n",
       "      <td>7.790000</td>\n",
       "      <td>7.900000</td>\n",
       "    </tr>\n",
       "  </tbody>\n",
       "</table>\n",
       "</div>"
      ],
      "text/plain": [
       "           valence       arousal     dominance\n",
       "count  13812.00000  13812.000000  13812.000000\n",
       "mean       5.06088      4.210674      5.184528\n",
       "std        1.27484      0.896097      0.938144\n",
       "min        1.26000      1.600000      1.680000\n",
       "25%        4.25000      3.570000      4.580000\n",
       "50%        5.20000      4.110000      5.260000\n",
       "75%        5.95000      4.760000      5.840000\n",
       "max        8.53000      7.790000      7.900000"
      ]
     },
     "execution_count": 7,
     "metadata": {},
     "output_type": "execute_result"
    }
   ],
   "source": [
    "warriner = load_warriner13()\n",
    "warriner.describe()"
   ]
  },
  {
   "cell_type": "code",
   "execution_count": 8,
   "metadata": {},
   "outputs": [
    {
     "name": "stdout",
     "output_type": "stream",
     "text": [
      "1032\n",
      "1031\n",
      "2328\n"
     ]
    }
   ],
   "source": [
    "def overlap(lex1, lex2):\n",
    "    return len(set(lex1.index).intersection(set(lex2.index)))\n",
    "\n",
    "print(overlap(anew99, anew10))\n",
    "print(overlap(anew99, warriner))\n",
    "print(overlap(anew10, warriner))"
   ]
  },
  {
   "cell_type": "markdown",
   "metadata": {},
   "source": [
    "Test set is anew99 $\\cap$ warriner. Dev set is anew10 $\\cap$ warriner - test set. Train set is warriner - train - dev."
   ]
  },
  {
   "cell_type": "code",
   "execution_count": 9,
   "metadata": {},
   "outputs": [
    {
     "data": {
      "text/plain": [
       "['abduction',\n",
       " 'abortion',\n",
       " 'absurd',\n",
       " 'abundance',\n",
       " 'abuse',\n",
       " 'acceptance',\n",
       " 'accident',\n",
       " 'ace',\n",
       " 'ache',\n",
       " 'achievement']"
      ]
     },
     "execution_count": 9,
     "metadata": {},
     "output_type": "execute_result"
    }
   ],
   "source": [
    "test = sorted(list(\n",
    "            set(anew99.index).intersection(set(warriner.index))\n",
    "         ))\n",
    "test[:10]"
   ]
  },
  {
   "cell_type": "code",
   "execution_count": 10,
   "metadata": {},
   "outputs": [
    {
     "data": {
      "text/plain": [
       "['able',\n",
       " 'absent',\n",
       " 'accept',\n",
       " 'access',\n",
       " 'accord',\n",
       " 'accuse',\n",
       " 'acre',\n",
       " 'action',\n",
       " 'actor',\n",
       " 'ad']"
      ]
     },
     "execution_count": 10,
     "metadata": {},
     "output_type": "execute_result"
    }
   ],
   "source": [
    "dev = sorted(list(\n",
    "        set(anew10.index).intersection(set(warriner.index)).difference(test)\n",
    "      )) \n",
    "dev[:10]"
   ]
  },
  {
   "cell_type": "code",
   "execution_count": 11,
   "metadata": {
    "scrolled": true
   },
   "outputs": [
    {
     "data": {
      "text/plain": [
       "['AIDS',\n",
       " 'Adidas',\n",
       " 'Bacardi',\n",
       " 'Budweiser',\n",
       " 'Coke',\n",
       " 'FALSE',\n",
       " 'Gatorade',\n",
       " 'Governor',\n",
       " 'HIV',\n",
       " 'Nike']"
      ]
     },
     "execution_count": 11,
     "metadata": {},
     "output_type": "execute_result"
    }
   ],
   "source": [
    "train = sorted(list(\n",
    "            set(warriner.index).difference(set(dev)).difference(set(test))\n",
    "        ))\n",
    "train[:10]"
   ]
  },
  {
   "cell_type": "code",
   "execution_count": 12,
   "metadata": {},
   "outputs": [
    {
     "name": "stdout",
     "output_type": "stream",
     "text": [
      "11484 1297 1031\n"
     ]
    }
   ],
   "source": [
    "print(len(train), len(dev), len(test))"
   ]
  },
  {
   "cell_type": "code",
   "execution_count": 13,
   "metadata": {},
   "outputs": [],
   "source": [
    "splits = {'train': train, \n",
    "          'dev': dev,\n",
    "          'test': test}\n",
    "\n",
    "for split, words in splits.items():\n",
    "    words = '\\n'.join(words)\n",
    "    with open(split+'.txt', 'w') as f:\n",
    "        f.write(words)\n",
    "        "
   ]
  },
  {
   "cell_type": "markdown",
   "metadata": {},
   "source": [
    "---"
   ]
  }
 ],
 "metadata": {
  "kernelspec": {
   "display_name": "Python 3",
   "language": "python",
   "name": "python3"
  },
  "language_info": {
   "codemirror_mode": {
    "name": "ipython",
    "version": 3
   },
   "file_extension": ".py",
   "mimetype": "text/x-python",
   "name": "python",
   "nbconvert_exporter": "python",
   "pygments_lexer": "ipython3",
   "version": "3.7.4"
  }
 },
 "nbformat": 4,
 "nbformat_minor": 2
}
